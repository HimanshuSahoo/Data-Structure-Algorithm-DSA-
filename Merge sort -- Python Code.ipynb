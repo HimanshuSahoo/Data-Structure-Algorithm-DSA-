{
 "cells": [
  {
   "cell_type": "code",
   "execution_count": 8,
   "id": "62b31e38",
   "metadata": {},
   "outputs": [
    {
     "name": "stdout",
     "output_type": "stream",
     "text": [
      "1, 1, 3, 4, 4, 5, 5, 5, 5, "
     ]
    }
   ],
   "source": [
    "def mergesort(arr):\n",
    "    if len(arr) > 1:\n",
    "        midpoint = len(arr)//2\n",
    "        LEFT = arr[:midpoint]\n",
    "        RIGHT = arr[midpoint:]\n",
    "        \n",
    "        mergesort(LEFT)\n",
    "        mergesort(RIGHT)\n",
    "        \n",
    "        i = j = k = 0\n",
    "        while i < len(LEFT) and j < len(RIGHT):\n",
    "            if LEFT[i] < RIGHT [j]:\n",
    "                arr[k] = LEFT[i]\n",
    "                i+=1\n",
    "            else:\n",
    "                arr[k] = RIGHT[j]\n",
    "                j += 1\n",
    "            k += 1\n",
    "        while i < len(LEFT):\n",
    "            arr[k] = LEFT[i]\n",
    "            i += 1\n",
    "            k += 1\n",
    "            \n",
    "        while j < len(LEFT):\n",
    "            arr[k] = LEFT[j]\n",
    "            j += 1\n",
    "            k += 1\n",
    "            \n",
    "        ## TODO : \n",
    "arr = [5,7,6,9,4,8,1,2,3]\n",
    "n= len(arr)\n",
    "mergesort(arr)\n",
    "for i in arr:\n",
    "    print(i, end=\", \")"
   ]
  },
  {
   "cell_type": "code",
   "execution_count": null,
   "id": "64bd87f3",
   "metadata": {},
   "outputs": [],
   "source": []
  }
 ],
 "metadata": {
  "kernelspec": {
   "display_name": "Python 3",
   "language": "python",
   "name": "python3"
  },
  "language_info": {
   "codemirror_mode": {
    "name": "ipython",
    "version": 3
   },
   "file_extension": ".py",
   "mimetype": "text/x-python",
   "name": "python",
   "nbconvert_exporter": "python",
   "pygments_lexer": "ipython3",
   "version": "3.8.8"
  },
  "toc": {
   "base_numbering": 1,
   "nav_menu": {},
   "number_sections": true,
   "sideBar": true,
   "skip_h1_title": false,
   "title_cell": "Table of Contents",
   "title_sidebar": "Contents",
   "toc_cell": false,
   "toc_position": {},
   "toc_section_display": true,
   "toc_window_display": false
  },
  "varInspector": {
   "cols": {
    "lenName": 16,
    "lenType": 16,
    "lenVar": 40
   },
   "kernels_config": {
    "python": {
     "delete_cmd_postfix": "",
     "delete_cmd_prefix": "del ",
     "library": "var_list.py",
     "varRefreshCmd": "print(var_dic_list())"
    },
    "r": {
     "delete_cmd_postfix": ") ",
     "delete_cmd_prefix": "rm(",
     "library": "var_list.r",
     "varRefreshCmd": "cat(var_dic_list()) "
    }
   },
   "types_to_exclude": [
    "module",
    "function",
    "builtin_function_or_method",
    "instance",
    "_Feature"
   ],
   "window_display": false
  }
 },
 "nbformat": 4,
 "nbformat_minor": 5
}
