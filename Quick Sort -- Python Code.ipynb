{
 "cells": [
  {
   "cell_type": "code",
   "execution_count": 1,
   "id": "deca0173",
   "metadata": {},
   "outputs": [
    {
     "name": "stdout",
     "output_type": "stream",
     "text": [
      "1, 2, 3, 4, 5, 6, 7, 8, 9, "
     ]
    }
   ],
   "source": [
    "## TODO Helper - Partition, helper\n",
    "\n",
    "def helper(arr, low, high):\n",
    "    pivot_index = arr[high]\n",
    "    i = (low - 1)\n",
    "    \n",
    "    for j in range (low, high):\n",
    "        if arr[j] <= pivot_index:\n",
    "            i = i + 1\n",
    "            arr[i],arr[j]= arr[j], arr[i]\n",
    "    arr[i+1],arr[high]= arr[high],arr[i+1]\n",
    "        \n",
    "    return(i+1)\n",
    "    \n",
    "## TODO sort\n",
    "\n",
    "def quicksort(arr,low ,high):\n",
    "    if low < high:\n",
    "        \n",
    "        pi= helper(arr, low, high)\n",
    "        quicksort(arr, low, pi-1)\n",
    "        quicksort(arr, pi+1, high)\n",
    "        \n",
    "## TODO Test the code\n",
    "arr = [5,7,6,9,4,8,1,2,3]\n",
    "n= len(arr)\n",
    "quicksort(arr,0, n-1)\n",
    "for i in arr:\n",
    "    print(i, end=\", \")"
   ]
  },
  {
   "cell_type": "code",
   "execution_count": null,
   "id": "f17dd1f0",
   "metadata": {},
   "outputs": [],
   "source": []
  }
 ],
 "metadata": {
  "kernelspec": {
   "display_name": "Python 3",
   "language": "python",
   "name": "python3"
  },
  "language_info": {
   "codemirror_mode": {
    "name": "ipython",
    "version": 3
   },
   "file_extension": ".py",
   "mimetype": "text/x-python",
   "name": "python",
   "nbconvert_exporter": "python",
   "pygments_lexer": "ipython3",
   "version": "3.8.8"
  },
  "toc": {
   "base_numbering": 1,
   "nav_menu": {},
   "number_sections": true,
   "sideBar": true,
   "skip_h1_title": false,
   "title_cell": "Table of Contents",
   "title_sidebar": "Contents",
   "toc_cell": false,
   "toc_position": {},
   "toc_section_display": true,
   "toc_window_display": false
  },
  "varInspector": {
   "cols": {
    "lenName": 16,
    "lenType": 16,
    "lenVar": 40
   },
   "kernels_config": {
    "python": {
     "delete_cmd_postfix": "",
     "delete_cmd_prefix": "del ",
     "library": "var_list.py",
     "varRefreshCmd": "print(var_dic_list())"
    },
    "r": {
     "delete_cmd_postfix": ") ",
     "delete_cmd_prefix": "rm(",
     "library": "var_list.r",
     "varRefreshCmd": "cat(var_dic_list()) "
    }
   },
   "types_to_exclude": [
    "module",
    "function",
    "builtin_function_or_method",
    "instance",
    "_Feature"
   ],
   "window_display": false
  }
 },
 "nbformat": 4,
 "nbformat_minor": 5
}
