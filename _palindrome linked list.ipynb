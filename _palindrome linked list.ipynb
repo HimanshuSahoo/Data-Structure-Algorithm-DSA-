{
 "cells": [
  {
   "cell_type": "code",
   "execution_count": 1,
   "id": "da890d88",
   "metadata": {},
   "outputs": [],
   "source": [
    "class Solution:\n",
    "\n",
    "    # to check if its palindrome\n",
    "    def isPalindrome(self, head) -> bool:\n",
    "        \n",
    "        # if underflow, is palindrome\n",
    "        if not head or not head.next: return True\n",
    "        \n",
    "        # get one before mid element\n",
    "        # and check if number of elements are even\n",
    "        mid, even = self.get_mid(head)\n",
    "        second = mid.next\n",
    "        if not even: second = second.next\n",
    "        \n",
    "        # reverse the first half of the linked list\n",
    "        first = self.rev_ll(head, mid)\n",
    "        \n",
    "        # match the reversed 1st and normal 2nd halves\n",
    "        while first and second:\n",
    "            if first.val != second.val: return False\n",
    "            first = first.next\n",
    "            second = second.next\n",
    "        return True\n",
    "        \n",
    "\n",
    "    # to reverse the linked list half\n",
    "    def rev_ll(self, head, upto):\n",
    "        prev, curr = None, head\n",
    "            \n",
    "        while curr and prev != upto:\n",
    "            temp = curr.next\n",
    "            curr.next = prev\n",
    "            prev = curr\n",
    "            curr = temp\n",
    "            \n",
    "        return prev\n",
    "            \n",
    "    # to get the mid element\n",
    "    # and check for even\n",
    "    def get_mid(self, head):\n",
    "        prev = head\n",
    "        slow = head\n",
    "        fast = head.next\n",
    "        \n",
    "        while fast and fast.next:\n",
    "            prev = slow\n",
    "            slow = slow.next\n",
    "            fast = fast.next.next\n",
    "        \n",
    "        if not fast:    return prev, False\n",
    "        return slow, True"
   ]
  },
  {
   "cell_type": "code",
   "execution_count": null,
   "id": "0c9ab6b5",
   "metadata": {},
   "outputs": [],
   "source": []
  }
 ],
 "metadata": {
  "kernelspec": {
   "display_name": "Python 3",
   "language": "python",
   "name": "python3"
  },
  "language_info": {
   "codemirror_mode": {
    "name": "ipython",
    "version": 3
   },
   "file_extension": ".py",
   "mimetype": "text/x-python",
   "name": "python",
   "nbconvert_exporter": "python",
   "pygments_lexer": "ipython3",
   "version": "3.8.8"
  },
  "toc": {
   "base_numbering": 1,
   "nav_menu": {},
   "number_sections": true,
   "sideBar": true,
   "skip_h1_title": false,
   "title_cell": "Table of Contents",
   "title_sidebar": "Contents",
   "toc_cell": false,
   "toc_position": {},
   "toc_section_display": true,
   "toc_window_display": false
  },
  "varInspector": {
   "cols": {
    "lenName": 16,
    "lenType": 16,
    "lenVar": 40
   },
   "kernels_config": {
    "python": {
     "delete_cmd_postfix": "",
     "delete_cmd_prefix": "del ",
     "library": "var_list.py",
     "varRefreshCmd": "print(var_dic_list())"
    },
    "r": {
     "delete_cmd_postfix": ") ",
     "delete_cmd_prefix": "rm(",
     "library": "var_list.r",
     "varRefreshCmd": "cat(var_dic_list()) "
    }
   },
   "types_to_exclude": [
    "module",
    "function",
    "builtin_function_or_method",
    "instance",
    "_Feature"
   ],
   "window_display": false
  }
 },
 "nbformat": 4,
 "nbformat_minor": 5
}
