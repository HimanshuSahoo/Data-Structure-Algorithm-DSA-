{
 "cells": [
  {
   "cell_type": "markdown",
   "id": "8e645378",
   "metadata": {},
   "source": [
    "## Selection Sort --Python Code"
   ]
  },
  {
   "cell_type": "code",
   "execution_count": 1,
   "id": "09c3c07b",
   "metadata": {},
   "outputs": [
    {
     "name": "stdout",
     "output_type": "stream",
     "text": [
      "1\n",
      "3\n",
      "4\n",
      "5\n",
      "8\n"
     ]
    }
   ],
   "source": [
    "A = [5,4,1,8,3]\n",
    "for i in range (len(A)):\n",
    "    min_index= i\n",
    "    for j in range(i+1, len(A)):\n",
    "        if A[min_index]>A[j]:\n",
    "            min_index=j\n",
    "## Swapping elements\n",
    "    A[i],A[min_index] = A[min_index],A[i]\n",
    "    \n",
    "for i in range(len(A)):\n",
    "    print(\"%d\" %A[i])"
   ]
  },
  {
   "cell_type": "markdown",
   "id": "541082f9",
   "metadata": {},
   "source": [
    "## Bubble Sort --Python Code"
   ]
  },
  {
   "cell_type": "code",
   "execution_count": 5,
   "id": "40bc10b2",
   "metadata": {},
   "outputs": [
    {
     "name": "stdout",
     "output_type": "stream",
     "text": [
      "10, 20, 30, 40, 50, 60, "
     ]
    }
   ],
   "source": [
    "def bubblesort(arr):\n",
    "    \n",
    "    n = len(arr)\n",
    "    for i in range (n):\n",
    "        for j in range (0, n-i-1):\n",
    "            if arr[j] > arr[j+1]:\n",
    "                arr[j],arr[j+1]= arr[j+1], arr[j]\n",
    "\n",
    "## Declaration Array\n",
    "myArray = [40,20,50,60,30,10]\n",
    "\n",
    "## Calling function\n",
    "bubblesort(myArray)\n",
    "\n",
    "## Test case for function\n",
    "for i in myArray:\n",
    "    print(i, end =\", \")"
   ]
  },
  {
   "cell_type": "markdown",
   "id": "ed2fdc9b",
   "metadata": {},
   "source": [
    "## Insertion Sort -- Python Code"
   ]
  },
  {
   "cell_type": "code",
   "execution_count": 15,
   "id": "25d7396b",
   "metadata": {},
   "outputs": [
    {
     "name": "stdout",
     "output_type": "stream",
     "text": [
      "2, 3, 6, 7, 9, "
     ]
    }
   ],
   "source": [
    "def insertionSort(arr):\n",
    "    \n",
    "    for i in range(1, len(arr)):\n",
    "        val=arr[i]\n",
    "        \n",
    "        j=i-1\n",
    "        while j >=0 and val < arr[j]:\n",
    "            arr[j+1]= arr[j]\n",
    "            j -= 1\n",
    "        arr[j+1]= val\n",
    "            \n",
    "myArray = [9,6,7,3,2]\n",
    "insertionSort(myArray)\n",
    "\n",
    "for m in myArray:\n",
    "    print(m, end=\", \")"
   ]
  },
  {
   "cell_type": "markdown",
   "id": "59629f23",
   "metadata": {},
   "source": [
    "## Quick Sort -- Python Code"
   ]
  },
  {
   "cell_type": "code",
   "execution_count": 19,
   "id": "75d694ec",
   "metadata": {},
   "outputs": [
    {
     "name": "stdout",
     "output_type": "stream",
     "text": [
      "1, 2, 3, 4, 5, 6, 7, 8, 9, "
     ]
    }
   ],
   "source": [
    "## TODO Helper - Partition, helper\n",
    "\n",
    "def helper(arr, low, high):\n",
    "    pivot_index = arr[high]\n",
    "    i = (low - 1)\n",
    "    \n",
    "    for j in range (low, high):\n",
    "        if arr[j] <= pivot_index:\n",
    "            i = i + 1\n",
    "            arr[i],arr[j]= arr[j], arr[i]\n",
    "    arr[i+1],arr[high]= arr[high],arr[i+1]\n",
    "        \n",
    "    return(i+1)\n",
    "    \n",
    "## TODO sort\n",
    "\n",
    "def quicksort(arr,low ,high):\n",
    "    if low < high:\n",
    "        \n",
    "        pi= helper(arr, low, high)\n",
    "        quicksort(arr, low, pi-1)\n",
    "        quicksort(arr, pi+1, high)\n",
    "        \n",
    "## TODO Test the code\n",
    "arr = [5,7,6,9,4,8,1,2,3]\n",
    "n= len(arr)\n",
    "quicksort(arr,0, n-1)\n",
    "for i in arr:\n",
    "    print(i, end=\", \")"
   ]
  },
  {
   "cell_type": "markdown",
   "id": "26bb0bc4",
   "metadata": {},
   "source": [
    "## Merge sort -- Python Code"
   ]
  },
  {
   "cell_type": "code",
   "execution_count": 22,
   "id": "ae8c5a2e",
   "metadata": {},
   "outputs": [
    {
     "ename": "SyntaxError",
     "evalue": "invalid syntax (<ipython-input-22-5f89997760b3>, line 4)",
     "output_type": "error",
     "traceback": [
      "\u001b[1;36m  File \u001b[1;32m\"<ipython-input-22-5f89997760b3>\"\u001b[1;36m, line \u001b[1;32m4\u001b[0m\n\u001b[1;33m    LEFT = [:midpoint]\u001b[0m\n\u001b[1;37m            ^\u001b[0m\n\u001b[1;31mSyntaxError\u001b[0m\u001b[1;31m:\u001b[0m invalid syntax\n"
     ]
    }
   ],
   "source": [
    "def mergesort(arr):\n",
    "    if len(arr) > 1:\n",
    "        midpoint = len(arr)//2\n",
    "        LEFT = [:midpoint]\n",
    "        RIGHT =  = [midpoint:]\n",
    "        \n",
    "        mergesort(LEFT)\n",
    "        mergesort(RIGHT)\n",
    "        \n",
    "        i = j = k = 0\n",
    "        while i < len(LEFT) and j < len(RIGHT):\n",
    "            if LEFT[i] < RIGHT [j]:\n",
    "                arr[k] = LEFT[i]\n",
    "                i+=1\n",
    "            else:\n",
    "                arr[k] = RIGHT[j]\n",
    "                j += 1\n",
    "            k += 1\n",
    "        while i < len(LEFT):\n",
    "            arr[k] = LEFT[i]\n",
    "            i += 1\n",
    "            k += 1\n",
    "            \n",
    "        while j < len(LEFT):\n",
    "            arr[k] = LEFT[j]\n",
    "            j += 1\n",
    "            k += 1\n",
    "            \n",
    "        ## TODO : \n",
    "arr = = [5,7,6,9,4,8,1,2,3]\n",
    "            "
   ]
  },
  {
   "cell_type": "markdown",
   "id": "f22143db",
   "metadata": {},
   "source": [
    "## Counting Sort - Python Code"
   ]
  },
  {
   "cell_type": "code",
   "execution_count": 34,
   "id": "20b8c4c0",
   "metadata": {},
   "outputs": [
    {
     "name": "stdout",
     "output_type": "stream",
     "text": [
      "1, 2, 3, 3, 5, 6, "
     ]
    }
   ],
   "source": [
    "def countingsort(mylist, high):\n",
    "    counter = [0] * (high+1)\n",
    "    \n",
    "    for i in mylist:\n",
    "        counter[i] += 1\n",
    "        \n",
    "    startpoint = 0\n",
    "    for i in range (len(counter)):\n",
    "        while 0 < counter[i]:\n",
    "            mylist[startpoint] = i\n",
    "            startpoint += 1\n",
    "            counter[i] -= 1\n",
    "        \n",
    "        \n",
    "# driver code\n",
    "\n",
    "arr = [5, 3, 2, 3, 6, 1]\n",
    "countingsort(arr, 6)\n",
    "\n",
    "for i in arr:\n",
    "    print(i, end=\", \")"
   ]
  },
  {
   "cell_type": "code",
   "execution_count": null,
   "id": "268fd786",
   "metadata": {},
   "outputs": [],
   "source": []
  },
  {
   "cell_type": "code",
   "execution_count": null,
   "id": "4464fa9d",
   "metadata": {},
   "outputs": [],
   "source": []
  },
  {
   "cell_type": "code",
   "execution_count": null,
   "id": "b9e8fff3",
   "metadata": {},
   "outputs": [],
   "source": []
  },
  {
   "cell_type": "code",
   "execution_count": 6,
   "id": "4d29ab5d",
   "metadata": {},
   "outputs": [],
   "source": [
    "myArray = [40,20,50,60,30,10]"
   ]
  },
  {
   "cell_type": "code",
   "execution_count": 9,
   "id": "6032ea36",
   "metadata": {},
   "outputs": [
    {
     "name": "stdout",
     "output_type": "stream",
     "text": [
      "[40, 20, 50, 60, 30, 10]\n"
     ]
    }
   ],
   "source": [
    "myarray.sort()\n",
    "print(myArray)"
   ]
  },
  {
   "cell_type": "code",
   "execution_count": 10,
   "id": "7b6acf75",
   "metadata": {},
   "outputs": [],
   "source": [
    "A = ['Orange','Apple','pineapple','Broccoli','Grapes']"
   ]
  },
  {
   "cell_type": "code",
   "execution_count": 11,
   "id": "01b8863d",
   "metadata": {},
   "outputs": [],
   "source": [
    "A.sort()"
   ]
  },
  {
   "cell_type": "code",
   "execution_count": 13,
   "id": "2847c95d",
   "metadata": {},
   "outputs": [
    {
     "name": "stdout",
     "output_type": "stream",
     "text": [
      "['Apple', 'Broccoli', 'Grapes', 'Orange', 'pineapple']\n"
     ]
    }
   ],
   "source": [
    "print(A)"
   ]
  },
  {
   "cell_type": "code",
   "execution_count": null,
   "id": "b398f24e",
   "metadata": {},
   "outputs": [],
   "source": []
  }
 ],
 "metadata": {
  "kernelspec": {
   "display_name": "Python 3",
   "language": "python",
   "name": "python3"
  },
  "language_info": {
   "codemirror_mode": {
    "name": "ipython",
    "version": 3
   },
   "file_extension": ".py",
   "mimetype": "text/x-python",
   "name": "python",
   "nbconvert_exporter": "python",
   "pygments_lexer": "ipython3",
   "version": "3.8.8"
  },
  "toc": {
   "base_numbering": 1,
   "nav_menu": {},
   "number_sections": true,
   "sideBar": true,
   "skip_h1_title": false,
   "title_cell": "Table of Contents",
   "title_sidebar": "Contents",
   "toc_cell": false,
   "toc_position": {},
   "toc_section_display": true,
   "toc_window_display": false
  },
  "varInspector": {
   "cols": {
    "lenName": 16,
    "lenType": 16,
    "lenVar": 40
   },
   "kernels_config": {
    "python": {
     "delete_cmd_postfix": "",
     "delete_cmd_prefix": "del ",
     "library": "var_list.py",
     "varRefreshCmd": "print(var_dic_list())"
    },
    "r": {
     "delete_cmd_postfix": ") ",
     "delete_cmd_prefix": "rm(",
     "library": "var_list.r",
     "varRefreshCmd": "cat(var_dic_list()) "
    }
   },
   "types_to_exclude": [
    "module",
    "function",
    "builtin_function_or_method",
    "instance",
    "_Feature"
   ],
   "window_display": false
  }
 },
 "nbformat": 4,
 "nbformat_minor": 5
}
